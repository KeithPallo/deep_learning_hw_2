{
 "cells": [
  {
   "cell_type": "markdown",
   "metadata": {},
   "source": [
    "# Deep learning from scratch: homework 2"
   ]
  },
  {
   "cell_type": "markdown",
   "metadata": {},
   "source": [
    "### General instructions"
   ]
  },
  {
   "cell_type": "markdown",
   "metadata": {},
   "source": [
    "Complete the exercises listed below in this Jupyter notebook - leaving all of your code in Python cells in the notebook itself.  Feel free to add any necessary cells."
   ]
  },
  {
   "cell_type": "code",
   "execution_count": 52,
   "metadata": {},
   "outputs": [],
   "source": [
    "import autograd.numpy as np\n",
    "from autograd import grad\n",
    "\n",
    "import matplotlib.pyplot as plt\n",
    "%matplotlib inline"
   ]
  },
  {
   "cell_type": "markdown",
   "metadata": {},
   "source": [
    "#### <span style=\"color:#a50e3e;\">Exercise 1. </span>   Perform two-class classification on a toy dataset"
   ]
  },
  {
   "cell_type": "markdown",
   "metadata": {},
   "source": [
    "Code up the two-class logistic regression / softmax cost function, using gradient descent to minimize.  You should use the two class toy dataset in the file called *3d_classification_data_v2.csv*.\n",
    "\n",
    "Create a plot with two panels that shows the number of misclassifications at each gradient descent step (in the left panel), and one that compares the cost function at each gradient descent step (in the right panel).  You won't get perfect separation - but you should be able to separate most of the points."
   ]
  },
  {
   "cell_type": "code",
   "execution_count": 53,
   "metadata": {},
   "outputs": [],
   "source": [
    "data_1 = np.loadtxt(\"3d_classification_data_v2.csv\",delimiter = ',')"
   ]
  },
  {
   "cell_type": "code",
   "execution_count": 54,
   "metadata": {},
   "outputs": [],
   "source": [
    "x_1 = data_1[:,:-1]\n",
    "X_1 = np.ones((x_1.shape[0],x_1.shape[1]+1)); # Create a matrix of ones for all relevant size\n",
    "X_1[:,1:] = x_1;                                # Reset weights for all but 0th position    \n",
    "y_1 = data_1[:,-1]\n",
    "y_1.shape = (100,1)\n",
    "w_1 = np.random.randn(np.shape(x_1)[1]+1,1)"
   ]
  },
  {
   "cell_type": "code",
   "execution_count": 55,
   "metadata": {},
   "outputs": [],
   "source": [
    "def softmax_cost(w,X,y):\n",
    "    \"\"\"Compute softmax values for each sets of scores in x.\"\"\"\n",
    "    return np.sum(np.log(1+np.exp(-y*np.dot(X,w))))\n",
    "    "
   ]
  },
  {
   "cell_type": "code",
   "execution_count": 56,
   "metadata": {},
   "outputs": [],
   "source": [
    "def accuracy(w,X,y):\n",
    "    \"Compute accuracy for a given weight\"\n",
    "    return 1 - (np.sum(np.maximum(0,np.sign(-y*np.dot(X,w)))))/y.shape[0]\n",
    "    "
   ]
  },
  {
   "cell_type": "code",
   "execution_count": 57,
   "metadata": {},
   "outputs": [],
   "source": [
    "def missclass(acc,y):\n",
    "    \"Compute number of missclass for a given accuracy and output\"\n",
    "    examples = y.shape[0]\n",
    "    return [(1-acc)*examples for acc in acc]\n",
    "    "
   ]
  },
  {
   "cell_type": "code",
   "execution_count": 58,
   "metadata": {},
   "outputs": [],
   "source": [
    "#softmax_cost(w_1,X_1,y_1)\n",
    "#accuracy(w_1,X_1,y_1)"
   ]
  },
  {
   "cell_type": "code",
   "execution_count": 59,
   "metadata": {},
   "outputs": [],
   "source": [
    "# gradient descent function - inputs: g (input function), alpha (steplength parameter), max_its (maximum number of iterations), w (initialization)\n",
    "def gradient_descent(g,acc,alpha,max_its,w,X,y):\n",
    "    # compute the gradient of our input function - note this is a function too!\n",
    "    \n",
    "    gradient = grad(g)\n",
    "    acur_history = []\n",
    "    cost_history = []\n",
    "\n",
    "    # run the gradient descent loop\n",
    "    best_w = w                 #  best weight\n",
    "    best_acur = acc(w,X,y)     #  best acc\n",
    "    best_eval = g(w,X,y)       #  lowest evaluation yet\n",
    "    \n",
    "    for k in range(max_its):\n",
    "        # evaluate the gradient\n",
    "        grad_eval = gradient(w,X,y)\n",
    "\n",
    "        # take gradient descent step\n",
    "        w = w - alpha*grad_eval\n",
    "        \n",
    "        # return only the weight providing the lowest evaluation\n",
    "        test_acur = acc(w,X,y)\n",
    "        test_eval = g(w,X,y)\n",
    "        \n",
    "        # append to lists\n",
    "        acur_history.append(test_acur)\n",
    "        cost_history.append(test_eval)\n",
    "        \n",
    "        # if best, update (currently not being used)\n",
    "        if test_eval < best_eval:\n",
    "            best_acur = test_acur\n",
    "            best_eval = test_eval\n",
    "            best_w = w\n",
    "            \n",
    "    return acur_history, cost_history"
   ]
  },
  {
   "cell_type": "code",
   "execution_count": 60,
   "metadata": {},
   "outputs": [],
   "source": [
    "acur_history_1, cost_history_1 = gradient_descent(softmax_cost,accuracy,10**-2,5000,w_1,X_1,y_1)\n",
    "mis_class_1 = missclass(acur_history_1,y_1)"
   ]
  },
  {
   "cell_type": "code",
   "execution_count": 61,
   "metadata": {},
   "outputs": [
    {
     "data": {
      "image/png": "[encoded data removed]",
      "text/plain": [
       "<Figure size 576x288 with 2 Axes>"
      ]
     },
     "metadata": {
      "needs_background": "light"
     },
     "output_type": "display_data"
    }
   ],
   "source": [
    "fig, ax = plt.subplots(1, 2, figsize=(8,4))\n",
    "ax[0].plot(cost_history_1)\n",
    "ax[1].plot(mis_class_1)\n",
    "plt.show()"
   ]
  },
  {
   "cell_type": "markdown",
   "metadata": {},
   "source": [
    "#### <span style=\"color:#a50e3e;\">Exercise 2. </span>   Perform two-class classification on a breast cancer dataset"
   ]
  },
  {
   "cell_type": "markdown",
   "metadata": {},
   "source": [
    "Use the softmax cost function to classify healthy from cancerous tissue using the dataset located in breast_cancer_dataset.csv (included in this homework folder).  You can examine the description of this dataset [here](https://archive.ics.uci.edu/ml/datasets/Breast+Cancer+Wisconsin+(Diagnostic)). \n",
    "\n",
    "There are $N = 8$ input dimensions to the input of this dataset (these are the first $N = 8$ columns of the breast_cancer_dataset.csv, the last column are the associated labels).  Fit using gradient descent using a maximum of 5,000 iterations.  You should be able to reach a point on the surface where you misclassify less than 30 examples."
   ]
  },
  {
   "cell_type": "markdown",
   "metadata": {},
   "source": [
    "**Note:** Python is a great prototyping language but [it is slow](http://jakevdp.github.io/blog/2014/05/09/why-python-is-slow/), particular when evaluating explicit for loops.  If you are having speed issues try re-writing the softmax cost function using as few explicit for-loops as possible (you can indeed write the entire summation in a single line of Python code, for-loop free)."
   ]
  },
  {
   "cell_type": "code",
   "execution_count": 62,
   "metadata": {},
   "outputs": [],
   "source": [
    "data_2 = np.loadtxt(\"breast_cancer_data.csv\",delimiter = ',')"
   ]
  },
  {
   "cell_type": "code",
   "execution_count": 63,
   "metadata": {},
   "outputs": [],
   "source": [
    "x_2 = data_2[:,:-1]\n",
    "X_2 = np.ones((x_2.shape[0],x_2.shape[1]+1)); # Create a matrix of ones for all relevant size\n",
    "X_2[:,1:] = x_2;                                # Reset weights for all but 0th position    \n",
    "y_2 = data_2[:,-1]\n",
    "y_2.shape = (699,1)\n",
    "w_2 = np.random.randn(np.shape(x_2)[1]+1,1)"
   ]
  },
  {
   "cell_type": "code",
   "execution_count": 64,
   "metadata": {},
   "outputs": [],
   "source": [
    "acur_history_2, cost_history_2 = gradient_descent(softmax_cost,accuracy,0.0002,5000,w_2,X_2,y_2)\n",
    "mis_class_2 = missclass(acur_history_2,y_2)"
   ]
  },
  {
   "cell_type": "code",
   "execution_count": 65,
   "metadata": {},
   "outputs": [
    {
     "data": {
      "image/png": "[encoded data removed]",
      "text/plain": [
       "<Figure size 576x288 with 2 Axes>"
      ]
     },
     "metadata": {
      "needs_background": "light"
     },
     "output_type": "display_data"
    }
   ],
   "source": [
    "fig, ax = plt.subplots(1, 2, figsize=(8,4))\n",
    "ax[0].plot(cost_history_2)\n",
    "ax[1].plot(mis_class_2)\n",
    "plt.show()"
   ]
  },
  {
   "cell_type": "code",
   "execution_count": 66,
   "metadata": {},
   "outputs": [
    {
     "data": {
      "text/plain": [
       "27.000000000000004"
      ]
     },
     "execution_count": 66,
     "metadata": {},
     "output_type": "execute_result"
    }
   ],
   "source": [
    "mis_class_2[-1]"
   ]
  },
  {
   "cell_type": "markdown",
   "metadata": {
    "collapsed": true
   },
   "source": [
    "#### <span style=\"color:#a50e3e;\">Exercise 3. </span>   Code up One-versus-All multiclass classification"
   ]
  },
  {
   "cell_type": "markdown",
   "metadata": {},
   "source": [
    "Using the toy $C = 3$ class dataset located in *3class_data.csv* - code up One-Versus-All classification, using this toy dataset to test out your code.  You should be able to learn a model that perfectly separates this data - as shown in class.  You may use your softmax cost / gradient descent code here for each of the two-class subproblems! "
   ]
  },
  {
   "cell_type": "code",
   "execution_count": 67,
   "metadata": {},
   "outputs": [],
   "source": [
    "data_3 = np.loadtxt(\"3class_data.csv\",delimiter = ',')"
   ]
  },
  {
   "cell_type": "code",
   "execution_count": 68,
   "metadata": {},
   "outputs": [],
   "source": [
    "y_3 = data_3[:,-1]\n",
    "y_3.shape = (30,1)\n",
    "y_3_1 = np.where(y_3 ==1,1,-1)\n",
    "y_3_2 = np.where(y_3 ==2,1,-1)\n",
    "y_3_3 = np.where(y_3 ==3,1,-1)"
   ]
  },
  {
   "cell_type": "code",
   "execution_count": 69,
   "metadata": {},
   "outputs": [],
   "source": [
    "x_3 = data_3[:,:-1]\n",
    "X_3 = np.ones((x_3.shape[0],x_3.shape[1]+1)); # Create a matrix of ones for all relevant size\n",
    "X_3[:,1:] = x_3;                              # Reset weights for all but 0th position"
   ]
  },
  {
   "cell_type": "code",
   "execution_count": 70,
   "metadata": {},
   "outputs": [],
   "source": [
    "w_3_1 = np.random.randn(np.shape(x_3)[1]+1,1)\n",
    "w_3_2 = np.random.randn(np.shape(x_3)[1]+1,1)\n",
    "w_3_3 = np.random.randn(np.shape(x_3)[1]+1,1)"
   ]
  },
  {
   "cell_type": "code",
   "execution_count": 71,
   "metadata": {},
   "outputs": [],
   "source": [
    "acur_history_3_1, cost_history_3_1 = gradient_descent(softmax_cost,accuracy,0.002,5000,w_3_1,X_3,y_3_1)\n",
    "mis_class_3_1 = missclass(acur_history_3_1,y_3_1)\n",
    "\n",
    "acur_history_3_2, cost_history_3_2 = gradient_descent(softmax_cost,accuracy,0.002,5000,w_3_2,X_3,y_3_2)\n",
    "mis_class_3_2 = missclass(acur_history_3_2,y_3_2)\n",
    "\n",
    "acur_history_3_3, cost_history_3_3 = gradient_descent(softmax_cost,accuracy,0.002,5000,w_3_3,X_3,y_3_3)\n",
    "mis_class_3_3 = missclass(acur_history_3_3,y_3_3)\n",
    "\n",
    "\n"
   ]
  },
  {
   "cell_type": "code",
   "execution_count": 72,
   "metadata": {},
   "outputs": [
    {
     "data": {
      "image/png": "[encoded data removed]",
      "text/plain": [
       "<Figure size 720x576 with 6 Axes>"
      ]
     },
     "metadata": {
      "needs_background": "light"
     },
     "output_type": "display_data"
    }
   ],
   "source": [
    "fig, ax = plt.subplots(3, 2, figsize=(10,8))\n",
    "ax[0][0].plot(cost_history_3_1)\n",
    "ax[0][1].plot(mis_class_3_1)\n",
    "ax[1][0].plot(cost_history_3_2)\n",
    "ax[1][1].plot(mis_class_3_2)\n",
    "ax[2][0].plot(cost_history_3_3)\n",
    "ax[2][1].plot(mis_class_3_3)\n",
    "\n",
    "\n",
    "\n",
    "plt.show()"
   ]
  },
  {
   "cell_type": "markdown",
   "metadata": {},
   "source": [
    "#### <span style=\"color:#a50e3e;\">Exercise 4. </span>   A nonlinear two-class dataset"
   ]
  },
  {
   "cell_type": "markdown",
   "metadata": {},
   "source": [
    "Propose a nonlinear feature transformation and integrate it into your two-class classification scheme in order to adequately classify the dataset shown below - located in the file *bricks.csv'.  With the right transformation you should be able to classify this quite well."
   ]
  },
  {
   "cell_type": "markdown",
   "metadata": {},
   "source": [
    "<p>\n",
    "  <img src= 'brick_pick.png' width=\"40%\" height=\"40%\" alt=\"\"/>\n",
    "</p>"
   ]
  },
  {
   "cell_type": "code",
   "execution_count": 73,
   "metadata": {},
   "outputs": [],
   "source": [
    "data_4 = np.loadtxt(\"bricks.csv\",delimiter = ',')"
   ]
  },
  {
   "cell_type": "code",
   "execution_count": 74,
   "metadata": {},
   "outputs": [],
   "source": [
    "y_4 = data_4[:,-1]\n",
    "y_4.shape = (100,1)"
   ]
  },
  {
   "cell_type": "code",
   "execution_count": 75,
   "metadata": {},
   "outputs": [],
   "source": [
    "x_4 = data_4[:,:-1]"
   ]
  },
  {
   "cell_type": "code",
   "execution_count": 86,
   "metadata": {},
   "outputs": [],
   "source": [
    "x_4_extend_1 = np.power(x_4,2)\n",
    "x_4_extend_2 = np.power(x_4,3)\n",
    "x_4_extend_3 = np.power(x_4,4)\n",
    "x_4_extend_4 = np.power(x_4,5)\n",
    "x_4_new = np.hstack((x_4,x_4_extend_1,x_4_extend_2,x_4_extend_3,x_4_extend_4))"
   ]
  },
  {
   "cell_type": "code",
   "execution_count": 90,
   "metadata": {},
   "outputs": [],
   "source": [
    "X_4 = np.ones((x_4_new.shape[0],x_4_new.shape[1]+1)); # Create a matrix of ones for all relevant size\n",
    "X_4[:,1:] = x_4_new;                                  # Reset weights for all but 0th position \n",
    "\n",
    "w_4 = np.random.randn(np.shape(x_4_new)[1]+1,1)"
   ]
  },
  {
   "cell_type": "code",
   "execution_count": 93,
   "metadata": {},
   "outputs": [],
   "source": [
    "acur_history_4, cost_history_4 = gradient_descent(softmax_cost,accuracy,0.003,5000,w_4,X_4,y_4)\n",
    "mis_class_4 = missclass(acur_history_4,y_4)"
   ]
  },
  {
   "cell_type": "code",
   "execution_count": 94,
   "metadata": {},
   "outputs": [
    {
     "data": {
      "image/png": "[encoded data removed]",
      "text/plain": [
       "<Figure size 576x288 with 2 Axes>"
      ]
     },
     "metadata": {
      "needs_background": "light"
     },
     "output_type": "display_data"
    }
   ],
   "source": [
    "fig, ax = plt.subplots(1, 2, figsize=(8,4))\n",
    "ax[0].plot(cost_history_4)\n",
    "ax[1].plot(mis_class_4)\n",
    "plt.show()"
   ]
  },
  {
   "cell_type": "code",
   "execution_count": null,
   "metadata": {},
   "outputs": [],
   "source": []
  }
 ],
 "metadata": {
  "anaconda-cloud": {},
  "kernelspec": {
   "display_name": "Python 3",
   "language": "python",
   "name": "python3"
  },
  "language_info": {
   "codemirror_mode": {
    "name": "ipython",
    "version": 3
   },
   "file_extension": ".py",
   "mimetype": "text/x-python",
   "name": "python",
   "nbconvert_exporter": "python",
   "pygments_lexer": "ipython3",
   "version": "3.6.8"
  },
  "toc": {
   "colors": {
    "hover_highlight": "#DAA520",
    "navigate_num": "#000000",
    "navigate_text": "#333333",
    "running_highlight": "#FF0000",
    "selected_highlight": "#FFD700",
    "sidebar_border": "#EEEEEE",
    "wrapper_background": "#FFFFFF"
   },
   "moveMenuLeft": true,
   "nav_menu": {
    "height": "30px",
    "width": "252px"
   },
   "navigate_menu": true,
   "number_sections": false,
   "sideBar": true,
   "threshold": 4,
   "toc_cell": false,
   "toc_section_display": "block",
   "toc_window_display": false,
   "widenNotebook": false
  }
 },
 "nbformat": 4,
 "nbformat_minor": 1
}
